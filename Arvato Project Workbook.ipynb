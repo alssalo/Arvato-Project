{
 "cells": [
  {
   "cell_type": "markdown",
   "metadata": {},
   "source": [
    "# Capstone Project: Create a Customer Segmentation Report for Arvato Financial Services\n",
    "\n",
    "In this project, you will analyze demographics data for customers of a mail-order sales company in Germany, comparing it against demographics information for the general population. You'll use unsupervised learning techniques to perform customer segmentation, identifying the parts of the population that best describe the core customer base of the company. Then, you'll apply what you've learned on a third dataset with demographics information for targets of a marketing campaign for the company, and use a model to predict which individuals are most likely to convert into becoming customers for the company. The data that you will use has been provided by our partners at Bertelsmann Arvato Analytics, and represents a real-life data science task.\n",
    "\n",
    "If you completed the first term of this program, you will be familiar with the first part of this project, from the unsupervised learning project. The versions of those two datasets used in this project will include many more features and has not been pre-cleaned. You are also free to choose whatever approach you'd like to analyzing the data rather than follow pre-determined steps. In your work on this project, make sure that you carefully document your steps and decisions, since your main deliverable for this project will be a blog post reporting your findings."
   ]
  },
  {
   "cell_type": "code",
   "execution_count": 9,
   "metadata": {},
   "outputs": [],
   "source": [
    "# import libraries here; add more as necessary\n",
    "import numpy as np\n",
    "import pandas as pd\n",
    "import matplotlib.pyplot as plt\n",
    "import seaborn as sns\n",
    "import pickle\n",
    "\n",
    "from sklearn.preprocessing import Imputer, StandardScaler\n",
    "from sklearn.decomposition import PCA\n",
    "from sklearn.cluster import KMeans\n",
    "\n",
    "# magic word for producing visualizations in notebook\n",
    "%matplotlib inline"
   ]
  },
  {
   "cell_type": "markdown",
   "metadata": {},
   "source": [
    "## Part 0: Get to Know the Data\n",
    "\n",
    "There are four data files associated with this project:\n",
    "\n",
    "- `Udacity_AZDIAS_052018.csv`: Demographics data for the general population of Germany; 891 211 persons (rows) x 366 features (columns).\n",
    "- `Udacity_CUSTOMERS_052018.csv`: Demographics data for customers of a mail-order company; 191 652 persons (rows) x 369 features (columns).\n",
    "- `Udacity_MAILOUT_052018_TRAIN.csv`: Demographics data for individuals who were targets of a marketing campaign; 42 982 persons (rows) x 367 (columns).\n",
    "- `Udacity_MAILOUT_052018_TEST.csv`: Demographics data for individuals who were targets of a marketing campaign; 42 833 persons (rows) x 366 (columns).\n",
    "\n",
    "Each row of the demographics files represents a single person, but also includes information outside of individuals, including information about their household, building, and neighborhood. Use the information from the first two files to figure out how customers (\"CUSTOMERS\") are similar to or differ from the general population at large (\"AZDIAS\"), then use your analysis to make predictions on the other two files (\"MAILOUT\"), predicting which recipients are most likely to become a customer for the mail-order company.\n",
    "\n",
    "The \"CUSTOMERS\" file contains three extra columns ('CUSTOMER_GROUP', 'ONLINE_PURCHASE', and 'PRODUCT_GROUP'), which provide broad information about the customers depicted in the file. The original \"MAILOUT\" file included one additional column, \"RESPONSE\", which indicated whether or not each recipient became a customer of the company. For the \"TRAIN\" subset, this column has been retained, but in the \"TEST\" subset it has been removed; it is against that withheld column that your final predictions will be assessed in the Kaggle competition.\n",
    "\n",
    "Otherwise, all of the remaining columns are the same between the three data files. For more information about the columns depicted in the files, you can refer to two Excel spreadsheets provided in the workspace. [One of them](./DIAS Information Levels - Attributes 2017.xlsx) is a top-level list of attributes and descriptions, organized by informational category. [The other](./DIAS Attributes - Values 2017.xlsx) is a detailed mapping of data values for each feature in alphabetical order.\n",
    "\n",
    "In the below cell, we've provided some initial code to load in the first two datasets. Note for all of the `.csv` data files in this project that they're semicolon (`;`) delimited, so an additional argument in the [`read_csv()`](https://pandas.pydata.org/pandas-docs/stable/generated/pandas.read_csv.html) call has been included to read in the data properly. Also, considering the size of the datasets, it may take some time for them to load completely.\n",
    "\n",
    "You'll notice when the data is loaded in that a warning message will immediately pop up. Before you really start digging into the modeling and analysis, you're going to need to perform some cleaning. Take some time to browse the structure of the data and look over the informational spreadsheets to understand the data values. Make some decisions on which features to keep, which features to drop, and if any revisions need to be made on data formats. It'll be a good idea to create a function with pre-processing steps, since you'll need to clean all of the datasets before you work with them."
   ]
  },
  {
   "cell_type": "markdown",
   "metadata": {},
   "source": [
    "### 0.1: Load & Read Data"
   ]
  },
  {
   "cell_type": "code",
   "execution_count": null,
   "metadata": {},
   "outputs": [],
   "source": [
    "# load in the data\n",
    "%time\n",
    "azdias = pd.read_csv('azdias.csv')\n",
    "customers = pd.read_csv('customers.csv')"
   ]
  },
  {
   "cell_type": "code",
   "execution_count": null,
   "metadata": {},
   "outputs": [],
   "source": [
    "azdias.head()"
   ]
  },
  {
   "cell_type": "code",
   "execution_count": null,
   "metadata": {},
   "outputs": [],
   "source": [
    "del azdias['Unnamed: 0']"
   ]
  },
  {
   "cell_type": "code",
   "execution_count": null,
   "metadata": {},
   "outputs": [],
   "source": [
    "customers.head()"
   ]
  },
  {
   "cell_type": "code",
   "execution_count": null,
   "metadata": {},
   "outputs": [],
   "source": [
    "del customers['Unnamed: 0']"
   ]
  },
  {
   "cell_type": "code",
   "execution_count": null,
   "metadata": {},
   "outputs": [],
   "source": [
    "azdias.shape,customers.shape"
   ]
  },
  {
   "cell_type": "code",
   "execution_count": null,
   "metadata": {},
   "outputs": [],
   "source": [
    "azdias.info()"
   ]
  },
  {
   "cell_type": "code",
   "execution_count": null,
   "metadata": {},
   "outputs": [],
   "source": [
    "customers.info()"
   ]
  },
  {
   "cell_type": "code",
   "execution_count": null,
   "metadata": {},
   "outputs": [],
   "source": [
    "dias_attr = pd.read_excel('DIAS Attributes - Values 2017.xlsx',header =1)\n",
    "dias_attr.head()"
   ]
  },
  {
   "cell_type": "code",
   "execution_count": null,
   "metadata": {},
   "outputs": [],
   "source": [
    "dias_attr_detailed = pd.read_excel(\"DIAS Information Levels - Attributes 2017.xlsx\",header =1)\n",
    "dias_attr_detailed"
   ]
  },
  {
   "cell_type": "code",
   "execution_count": null,
   "metadata": {},
   "outputs": [],
   "source": [
    "del dias_attr['Unnamed: 0']\n",
    "del dias_attr_detailed['Unnamed: 0']"
   ]
  },
  {
   "cell_type": "markdown",
   "metadata": {},
   "source": [
    "#### Key Notes:\n",
    ">    .The \"CUSTOMERS\" file contains three extra columns ('CUSTOMER_GROUP', 'ONLINE_PURCHASE', and 'PRODUCT_GROUP')\n",
    "     .As per \"dias_attr\" dataframe serveral values in Demographics dataframes have Nans represented by int values"
   ]
  },
  {
   "cell_type": "markdown",
   "metadata": {},
   "source": [
    "### 0.2 : Preprocess (Encode missing or unknown values)"
   ]
  },
  {
   "cell_type": "code",
   "execution_count": null,
   "metadata": {},
   "outputs": [],
   "source": [
    "def transform_attribute_col(df):\n",
    "    df[\"Attribute\"] = df[\"Attribute\"].fillna(method=\"ffill\")\n",
    "    df = df[(df['Meaning'].str.contains(\"unknown\")) | (df['Meaning'].str.contains(\"no \"))]\n",
    "    df = df.groupby(\"Attribute\")[\"Value\"].apply(list).reset_index().set_index(\"Attribute\")\n",
    "    \n",
    "    return df\n",
    "\n",
    "def encode_missing_unknown(df,attri_df):\n",
    "    \n",
    "    attri_df = transform_attribute_col(attri_df)\n",
    "    \n",
    "    for col in df.columns:\n",
    "        if col in attri_df.index:\n",
    "            val = attri_df.loc[col][0]\n",
    "            df[col] = df[col].apply(lambda x : np.NaN if x in val or x ==\"NaN\" else x)\n",
    "        \n",
    "    return df , attri_df"
   ]
  },
  {
   "cell_type": "code",
   "execution_count": null,
   "metadata": {},
   "outputs": [],
   "source": [
    "dias,attr_df  = encode_missing_unknown(azdias,dias_attr)"
   ]
  },
  {
   "cell_type": "markdown",
   "metadata": {},
   "source": [
    "### 0.3 : Explore Missing Values"
   ]
  },
  {
   "cell_type": "markdown",
   "metadata": {},
   "source": [
    "  #### 0.3a : Columns Wise Missing Value"
   ]
  },
  {
   "cell_type": "code",
   "execution_count": null,
   "metadata": {},
   "outputs": [],
   "source": [
    "# missing value percentage in each feature /column\n",
    "missing_column_df = dias.isnull().sum()/len(dias)"
   ]
  },
  {
   "cell_type": "code",
   "execution_count": null,
   "metadata": {},
   "outputs": [],
   "source": [
    "plt.figure(figsize=(10,5))\n",
    "plt.hist(missing_column_df , bins =20)\n",
    "plt.ylabel('Propotion Columns')\n",
    "plt.xlabel('Number of missed values')\n",
    "plt.title(\"Distrubution of column vs missing value frequency\")\n",
    "plt.show()"
   ]
  },
  {
   "cell_type": "markdown",
   "metadata": {},
   "source": [
    "  #### 0.3b : Row Wise Missing Value"
   ]
  },
  {
   "cell_type": "code",
   "execution_count": null,
   "metadata": {},
   "outputs": [],
   "source": [
    "# missing value percentage in each record /row\n",
    "missing_row_df = dias.isnull().sum(axis=1)/dias.shape[1]"
   ]
  },
  {
   "cell_type": "code",
   "execution_count": null,
   "metadata": {},
   "outputs": [],
   "source": [
    "plt.figure(figsize=(10,5))\n",
    "plt.hist(missing_row_df , bins =20)\n",
    "plt.ylabel('Number of missing values')\n",
    "plt.xlabel('Number of rows')\n",
    "plt.title(\"Distrubution of row vs missing value frequency\")\n",
    "plt.show()"
   ]
  },
  {
   "cell_type": "markdown",
   "metadata": {},
   "source": [
    "  #### 0.3c : Remove  Missing Value"
   ]
  },
  {
   "cell_type": "code",
   "execution_count": null,
   "metadata": {},
   "outputs": [],
   "source": [
    "def remove_missing_value(df,true_df = True,row_thres = 0.2 ,col_thres =0.2,):\n",
    "    \n",
    "    col_to_drop = []\n",
    "    if true_df:\n",
    "        # missing value percentage in each feature /column\n",
    "        missing_column_df = df.isnull().sum()/len(df)\n",
    "    \n",
    "        # remove columns having \n",
    "        col_to_drop = missing_column_df[missing_column_df > col_thres].index\n",
    "        df = df.drop(col_to_drop,axis=1)\n",
    "    # missing value percentage in each record /row\n",
    "    missing_row_df = df.isnull().sum(axis=1)/df.shape[1]\n",
    "    \n",
    "    # remove rows  \n",
    "    row_to_drop = missing_row_df[missing_row_df > row_thres].index \n",
    "    df = df.drop(row_to_drop, axis=0)\n",
    "    \n",
    "    return df, col_to_drop"
   ]
  },
  {
   "cell_type": "code",
   "execution_count": null,
   "metadata": {},
   "outputs": [],
   "source": [
    "dias_miss,col_to_drop = remove_missing_value(dias)"
   ]
  },
  {
   "cell_type": "code",
   "execution_count": null,
   "metadata": {},
   "outputs": [],
   "source": [
    "#dias_attr_cols_num = dias_attr[dias_attr.Meaning.str.contains(\"numeric\") | (dias_attr['Meaning'].str.contains(\"num\"))].Attribute.to_list()\n",
    "selected_col = []\n",
    "for col in dias_attr.Attribute.unique():\n",
    "    if col in dias_miss.columns :#and col not in object_type_col and col not in dias_attr_cols_num and col not in categorical:\n",
    "        selected_col.append(col)\n",
    "len(selected_col)"
   ]
  },
  {
   "cell_type": "markdown",
   "metadata": {},
   "source": [
    "### 0.4 : Explore Categorical Columns"
   ]
  },
  {
   "cell_type": "code",
   "execution_count": null,
   "metadata": {},
   "outputs": [],
   "source": [
    "#given object type columns\n",
    "object_type_col = [col for col in dias_miss.columns if dias_miss[col].dtype==\"object\"]"
   ]
  },
  {
   "cell_type": "code",
   "execution_count": null,
   "metadata": {},
   "outputs": [],
   "source": [
    "#stage1 filter \n",
    "for col in object_type_col:\n",
    "        print(\"col:\",col,\"  Uni_val:\",dias_miss[col].nunique(),\"  Uni_vals: \",dias_miss[col].unique())    "
   ]
  },
  {
   "cell_type": "code",
   "execution_count": null,
   "metadata": {},
   "outputs": [],
   "source": [
    "def reencode_cat_feat(df,col_to_drop):\n",
    "    \n",
    "    df['OST_WEST_KZ'].replace(['W', 'O'], [1, 0], inplace=True)\n",
    "    df['EINGEFUEGT_AM'], _ = pd.factorize(pd.to_datetime(df['EINGEFUEGT_AM']).dt.year)\n",
    "    df['CAMEO_DEUG_2015'] = df['CAMEO_DEUG_2015'].replace({'X': np.nan}).astype(float)\n",
    "    \n",
    "    df['CAMEO_INTL_2015'] = df['CAMEO_INTL_2015'].replace({'XX': np.nan}).astype(float)\n",
    "    df['to_Wealth'] = df['CAMEO_INTL_2015'].apply(lambda x: np.floor(x/10))\n",
    "    df['to_life_stage'] = df['CAMEO_INTL_2015'].apply(lambda x: x%10)\n",
    "    \n",
    "    df.drop(\"CAMEO_INTL_2015\",axis=1, inplace = True)\n",
    "    \n",
    "    df.drop(col_to_drop, axis=1, inplace = True)\n",
    "    return df"
   ]
  },
  {
   "cell_type": "code",
   "execution_count": null,
   "metadata": {},
   "outputs": [],
   "source": [
    "dias2 = reencode_cat_feat(dias_miss,[\"CAMEO_DEU_2015\"])"
   ]
  },
  {
   "cell_type": "markdown",
   "metadata": {},
   "source": [
    "### 0.5: Feature Scaling & Missing value Imputing"
   ]
  },
  {
   "cell_type": "code",
   "execution_count": null,
   "metadata": {},
   "outputs": [],
   "source": [
    "def impute_scale(df):\n",
    "    \n",
    "    imputer = Imputer(strategy='median')\n",
    "    scaler = StandardScaler()\n",
    "    df = pd.DataFrame(imputer.fit_transform(df), columns = df.columns)\n",
    "    df = pd.DataFrame(scaler.fit_transform(df), columns = df.columns)\n",
    "    return df"
   ]
  },
  {
   "cell_type": "code",
   "execution_count": null,
   "metadata": {},
   "outputs": [],
   "source": [
    "dias3 = impute_scale(dias2)"
   ]
  },
  {
   "cell_type": "markdown",
   "metadata": {},
   "source": [
    "### 0.6 Putting it all Together"
   ]
  },
  {
   "cell_type": "code",
   "execution_count": null,
   "metadata": {},
   "outputs": [],
   "source": [
    "def clean_data(df,attribute_df = dias_attr,cols_to_drop = col_to_drop):\n",
    "    \n",
    "    df,_ = encode_missing_unknown(df,attribute_df)\n",
    "    \n",
    "    df = df.drop(cols_to_drop, axis=1)\n",
    "    \n",
    "    df,_  = remove_missing_value(df,true_df=False)\n",
    "    \n",
    "    df = reencode_cat_feat(df,[\"CAMEO_DEU_2015\"])\n",
    "    \n",
    "    df = impute_scale(df)\n",
    "\n",
    "    return df"
   ]
  },
  {
   "cell_type": "code",
   "execution_count": null,
   "metadata": {},
   "outputs": [],
   "source": [
    "clean_customers = clean_data(customers.drop(['CUSTOMER_GROUP', 'ONLINE_PURCHASE', 'PRODUCT_GROUP'],axis=1))"
   ]
  },
  {
   "cell_type": "code",
   "execution_count": null,
   "metadata": {},
   "outputs": [],
   "source": [
    "# Dump the dataframes to  pickle object .\n",
    "pickle.dump(dias3, open(\"azdias_cleaned.pickle\", \"wb\"))\n",
    "pickle.dump(clean_customers, open(\"customers_cleaned.pickle\", \"wb\"))"
   ]
  },
  {
   "cell_type": "markdown",
   "metadata": {},
   "source": [
    "## Part 1: Customer Segmentation Report\n",
    "\n",
    "The main bulk of your analysis will come in this part of the project. Here, you should use unsupervised learning techniques to describe the relationship between the demographics of the company's existing customers and the general population of Germany. By the end of this part, you should be able to describe parts of the general population that are more likely to be part of the mail-order company's main customer base, and which parts of the general population are less so."
   ]
  },
  {
   "cell_type": "code",
   "execution_count": 3,
   "metadata": {},
   "outputs": [],
   "source": [
    "# load pickle objects\n",
    "azdias_new = pickle.load(open(\"azdias_cleaned.pickle\", \"rb\"))\n",
    "customers_new = pickle.load(open(\"customers_cleaned.pickle\", \"rb\"))"
   ]
  },
  {
   "cell_type": "markdown",
   "metadata": {},
   "source": [
    "### 1.1: PCA"
   ]
  },
  {
   "cell_type": "code",
   "execution_count": 4,
   "metadata": {},
   "outputs": [],
   "source": [
    "def perform_pca(n_components,data):\n",
    "    \n",
    "    pca = PCA(n_components)\n",
    "    pca_fitted = pca.fit_transform(data)\n",
    "    return pca, pca_fitted"
   ]
  },
  {
   "cell_type": "code",
   "execution_count": null,
   "metadata": {},
   "outputs": [],
   "source": [
    "pca_1 ,pca_1_fitted = perform_pca(None,azdias_new)"
   ]
  },
  {
   "cell_type": "code",
   "execution_count": null,
   "metadata": {},
   "outputs": [],
   "source": [
    "#from class notes\n",
    "def scree_plot(pca):\n",
    "    \n",
    "    num_components = pca.n_components_\n",
    "    vals = pca.explained_variance_ratio_\n",
    "    ind = np.arange(num_components)\n",
    "    \n",
    "    plt.figure(figsize=(20, 10))\n",
    "    ax = plt.subplot(111)\n",
    "    cumvals = np.cumsum(vals)\n",
    "    ax.bar(ind, vals)\n",
    "    ax.plot(ind, cumvals)\n",
    "    ax.xaxis.set_tick_params(width=0)\n",
    "    ax.yaxis.set_tick_params(width=2, length=12)\n",
    "    ax.set_xlabel(\"Principal Component\")\n",
    "    ax.set_ylabel(\"Variance Explained (%)\")\n",
    "    plt.title('Explained Variance Per Principal Component')"
   ]
  },
  {
   "cell_type": "code",
   "execution_count": null,
   "metadata": {},
   "outputs": [],
   "source": [
    "scree_plot(pca_1)"
   ]
  },
  {
   "cell_type": "code",
   "execution_count": null,
   "metadata": {},
   "outputs": [],
   "source": [
    "print(\"Total sum of Explained varience for first 5 components\",pca_1.explained_variance_ratio_[:5].sum())\n",
    "print(\"Total sum of Explained varience for first 10 components\",pca_1.explained_variance_ratio_[:10].sum())\n",
    "print(\"Total sum of Explained varience for first 50 components\",pca_1.explained_variance_ratio_[:50].sum())\n",
    "print(\"Total sum of Explained varience for first 100 components\",pca_1.explained_variance_ratio_[:100].sum())\n",
    "print(\"Total sum of Explained varience for first 200 components\",pca_1.explained_variance_ratio_[:200].sum())"
   ]
  },
  {
   "cell_type": "markdown",
   "metadata": {},
   "source": [
    "#### Key Notes:\n",
    "> - ~95% of variance is explained by first 200 components of pca"
   ]
  },
  {
   "cell_type": "code",
   "execution_count": 5,
   "metadata": {},
   "outputs": [],
   "source": [
    "# Refit with 200 components\n",
    "pca_2 ,pca_2_fitted = perform_pca(200,azdias_new)"
   ]
  },
  {
   "cell_type": "code",
   "execution_count": 6,
   "metadata": {},
   "outputs": [],
   "source": [
    "components_df = pd.DataFrame(np.round(pca_2.components_,4),columns = azdias_new.columns)\n",
    "components_df[\"Explained Varience (%)\"] = np.round(pca_2.explained_variance_ratio_.reshape(len(pca_2.components_), 1),4)*100"
   ]
  },
  {
   "cell_type": "code",
   "execution_count": 7,
   "metadata": {},
   "outputs": [
    {
     "data": {
      "text/html": [
       "<div>\n",
       "<style scoped>\n",
       "    .dataframe tbody tr th:only-of-type {\n",
       "        vertical-align: middle;\n",
       "    }\n",
       "\n",
       "    .dataframe tbody tr th {\n",
       "        vertical-align: top;\n",
       "    }\n",
       "\n",
       "    .dataframe thead th {\n",
       "        text-align: right;\n",
       "    }\n",
       "</style>\n",
       "<table border=\"1\" class=\"dataframe\">\n",
       "  <thead>\n",
       "    <tr style=\"text-align: right;\">\n",
       "      <th></th>\n",
       "      <th>LNR</th>\n",
       "      <th>AKT_DAT_KL</th>\n",
       "      <th>ANZ_HAUSHALTE_AKTIV</th>\n",
       "      <th>ANZ_HH_TITEL</th>\n",
       "      <th>ANZ_KINDER</th>\n",
       "      <th>ANZ_PERSONEN</th>\n",
       "      <th>ANZ_STATISTISCHE_HAUSHALTE</th>\n",
       "      <th>ANZ_TITEL</th>\n",
       "      <th>ARBEIT</th>\n",
       "      <th>BALLRAUM</th>\n",
       "      <th>...</th>\n",
       "      <th>VK_ZG11</th>\n",
       "      <th>W_KEIT_KIND_HH</th>\n",
       "      <th>WOHNDAUER_2008</th>\n",
       "      <th>WOHNLAGE</th>\n",
       "      <th>ZABEOTYP</th>\n",
       "      <th>ANREDE_KZ</th>\n",
       "      <th>ALTERSKATEGORIE_GROB</th>\n",
       "      <th>to_Wealth</th>\n",
       "      <th>to_life_stage</th>\n",
       "      <th>Explained Varience (%)</th>\n",
       "    </tr>\n",
       "  </thead>\n",
       "  <tbody>\n",
       "    <tr>\n",
       "      <th>0</th>\n",
       "      <td>-0.0233</td>\n",
       "      <td>0.0628</td>\n",
       "      <td>0.0837</td>\n",
       "      <td>0.0205</td>\n",
       "      <td>-0.0263</td>\n",
       "      <td>-0.0743</td>\n",
       "      <td>0.0818</td>\n",
       "      <td>-0.0026</td>\n",
       "      <td>0.0978</td>\n",
       "      <td>-0.0770</td>\n",
       "      <td>...</td>\n",
       "      <td>0.0799</td>\n",
       "      <td>0.0409</td>\n",
       "      <td>-0.0323</td>\n",
       "      <td>-0.0569</td>\n",
       "      <td>0.0860</td>\n",
       "      <td>0.0061</td>\n",
       "      <td>-0.0382</td>\n",
       "      <td>0.1356</td>\n",
       "      <td>-0.0788</td>\n",
       "      <td>8.15</td>\n",
       "    </tr>\n",
       "    <tr>\n",
       "      <th>1</th>\n",
       "      <td>0.0037</td>\n",
       "      <td>0.0094</td>\n",
       "      <td>0.0252</td>\n",
       "      <td>0.0113</td>\n",
       "      <td>-0.0104</td>\n",
       "      <td>-0.0135</td>\n",
       "      <td>0.0308</td>\n",
       "      <td>0.0018</td>\n",
       "      <td>-0.0021</td>\n",
       "      <td>-0.0083</td>\n",
       "      <td>...</td>\n",
       "      <td>0.0066</td>\n",
       "      <td>0.0167</td>\n",
       "      <td>0.0033</td>\n",
       "      <td>-0.0054</td>\n",
       "      <td>-0.0050</td>\n",
       "      <td>0.0020</td>\n",
       "      <td>0.0193</td>\n",
       "      <td>0.0010</td>\n",
       "      <td>0.0082</td>\n",
       "      <td>7.92</td>\n",
       "    </tr>\n",
       "    <tr>\n",
       "      <th>2</th>\n",
       "      <td>-0.0938</td>\n",
       "      <td>-0.0101</td>\n",
       "      <td>-0.0095</td>\n",
       "      <td>-0.0225</td>\n",
       "      <td>-0.0014</td>\n",
       "      <td>0.0063</td>\n",
       "      <td>-0.0073</td>\n",
       "      <td>-0.0106</td>\n",
       "      <td>0.0537</td>\n",
       "      <td>0.0819</td>\n",
       "      <td>...</td>\n",
       "      <td>-0.0239</td>\n",
       "      <td>-0.0007</td>\n",
       "      <td>0.0112</td>\n",
       "      <td>0.0802</td>\n",
       "      <td>0.0107</td>\n",
       "      <td>-0.0056</td>\n",
       "      <td>0.0152</td>\n",
       "      <td>0.0363</td>\n",
       "      <td>-0.0009</td>\n",
       "      <td>5.09</td>\n",
       "    </tr>\n",
       "    <tr>\n",
       "      <th>3</th>\n",
       "      <td>0.0136</td>\n",
       "      <td>0.0426</td>\n",
       "      <td>-0.0141</td>\n",
       "      <td>-0.0160</td>\n",
       "      <td>0.0751</td>\n",
       "      <td>0.0533</td>\n",
       "      <td>-0.0166</td>\n",
       "      <td>-0.0081</td>\n",
       "      <td>-0.0293</td>\n",
       "      <td>0.0159</td>\n",
       "      <td>...</td>\n",
       "      <td>0.0297</td>\n",
       "      <td>-0.1123</td>\n",
       "      <td>-0.0637</td>\n",
       "      <td>0.0292</td>\n",
       "      <td>0.0490</td>\n",
       "      <td>0.0082</td>\n",
       "      <td>-0.1920</td>\n",
       "      <td>-0.0136</td>\n",
       "      <td>-0.0319</td>\n",
       "      <td>4.56</td>\n",
       "    </tr>\n",
       "    <tr>\n",
       "      <th>4</th>\n",
       "      <td>-0.0548</td>\n",
       "      <td>-0.1092</td>\n",
       "      <td>0.0171</td>\n",
       "      <td>0.0143</td>\n",
       "      <td>0.0598</td>\n",
       "      <td>0.1602</td>\n",
       "      <td>0.0168</td>\n",
       "      <td>0.0127</td>\n",
       "      <td>0.0810</td>\n",
       "      <td>-0.0630</td>\n",
       "      <td>...</td>\n",
       "      <td>-0.1838</td>\n",
       "      <td>-0.0722</td>\n",
       "      <td>0.0192</td>\n",
       "      <td>-0.0701</td>\n",
       "      <td>-0.0573</td>\n",
       "      <td>-0.0106</td>\n",
       "      <td>0.0205</td>\n",
       "      <td>0.0139</td>\n",
       "      <td>0.0080</td>\n",
       "      <td>3.23</td>\n",
       "    </tr>\n",
       "    <tr>\n",
       "      <th>5</th>\n",
       "      <td>-0.1246</td>\n",
       "      <td>0.0346</td>\n",
       "      <td>0.0124</td>\n",
       "      <td>0.0124</td>\n",
       "      <td>-0.0149</td>\n",
       "      <td>-0.0501</td>\n",
       "      <td>0.0148</td>\n",
       "      <td>0.0020</td>\n",
       "      <td>0.0722</td>\n",
       "      <td>0.0419</td>\n",
       "      <td>...</td>\n",
       "      <td>0.0158</td>\n",
       "      <td>0.0121</td>\n",
       "      <td>-0.0193</td>\n",
       "      <td>-0.0140</td>\n",
       "      <td>0.0212</td>\n",
       "      <td>-0.0021</td>\n",
       "      <td>-0.0369</td>\n",
       "      <td>-0.0227</td>\n",
       "      <td>0.0510</td>\n",
       "      <td>2.54</td>\n",
       "    </tr>\n",
       "    <tr>\n",
       "      <th>6</th>\n",
       "      <td>-0.0063</td>\n",
       "      <td>-0.0078</td>\n",
       "      <td>-0.0058</td>\n",
       "      <td>-0.0006</td>\n",
       "      <td>-0.0264</td>\n",
       "      <td>0.0014</td>\n",
       "      <td>-0.0071</td>\n",
       "      <td>0.0061</td>\n",
       "      <td>-0.0050</td>\n",
       "      <td>0.0012</td>\n",
       "      <td>...</td>\n",
       "      <td>-0.0733</td>\n",
       "      <td>0.0547</td>\n",
       "      <td>0.0055</td>\n",
       "      <td>0.0180</td>\n",
       "      <td>-0.0463</td>\n",
       "      <td>-0.3472</td>\n",
       "      <td>-0.0305</td>\n",
       "      <td>0.0009</td>\n",
       "      <td>-0.0180</td>\n",
       "      <td>2.21</td>\n",
       "    </tr>\n",
       "    <tr>\n",
       "      <th>7</th>\n",
       "      <td>0.0143</td>\n",
       "      <td>0.0145</td>\n",
       "      <td>-0.0187</td>\n",
       "      <td>-0.0064</td>\n",
       "      <td>-0.0119</td>\n",
       "      <td>-0.0229</td>\n",
       "      <td>-0.0164</td>\n",
       "      <td>0.0002</td>\n",
       "      <td>0.0948</td>\n",
       "      <td>-0.0482</td>\n",
       "      <td>...</td>\n",
       "      <td>0.0072</td>\n",
       "      <td>0.0182</td>\n",
       "      <td>-0.0126</td>\n",
       "      <td>-0.1459</td>\n",
       "      <td>-0.0086</td>\n",
       "      <td>-0.0323</td>\n",
       "      <td>-0.0501</td>\n",
       "      <td>-0.0344</td>\n",
       "      <td>0.0988</td>\n",
       "      <td>1.86</td>\n",
       "    </tr>\n",
       "    <tr>\n",
       "      <th>8</th>\n",
       "      <td>0.0762</td>\n",
       "      <td>-0.0043</td>\n",
       "      <td>0.0468</td>\n",
       "      <td>0.0021</td>\n",
       "      <td>0.0074</td>\n",
       "      <td>0.0227</td>\n",
       "      <td>0.0455</td>\n",
       "      <td>-0.0071</td>\n",
       "      <td>-0.0118</td>\n",
       "      <td>-0.0387</td>\n",
       "      <td>...</td>\n",
       "      <td>0.0136</td>\n",
       "      <td>-0.0125</td>\n",
       "      <td>0.0200</td>\n",
       "      <td>-0.0275</td>\n",
       "      <td>0.0041</td>\n",
       "      <td>-0.0313</td>\n",
       "      <td>0.0082</td>\n",
       "      <td>0.0226</td>\n",
       "      <td>-0.0212</td>\n",
       "      <td>1.70</td>\n",
       "    </tr>\n",
       "    <tr>\n",
       "      <th>9</th>\n",
       "      <td>-0.0176</td>\n",
       "      <td>0.0065</td>\n",
       "      <td>-0.0601</td>\n",
       "      <td>0.0050</td>\n",
       "      <td>-0.0153</td>\n",
       "      <td>-0.0425</td>\n",
       "      <td>-0.0615</td>\n",
       "      <td>0.0104</td>\n",
       "      <td>-0.0069</td>\n",
       "      <td>-0.0151</td>\n",
       "      <td>...</td>\n",
       "      <td>0.0307</td>\n",
       "      <td>0.0199</td>\n",
       "      <td>-0.0028</td>\n",
       "      <td>-0.0174</td>\n",
       "      <td>-0.0283</td>\n",
       "      <td>0.0187</td>\n",
       "      <td>-0.0189</td>\n",
       "      <td>-0.0908</td>\n",
       "      <td>0.0209</td>\n",
       "      <td>1.44</td>\n",
       "    </tr>\n",
       "  </tbody>\n",
       "</table>\n",
       "<p>10 rows × 322 columns</p>\n",
       "</div>"
      ],
      "text/plain": [
       "      LNR  AKT_DAT_KL  ANZ_HAUSHALTE_AKTIV  ANZ_HH_TITEL  ANZ_KINDER  \\\n",
       "0 -0.0233      0.0628               0.0837        0.0205     -0.0263   \n",
       "1  0.0037      0.0094               0.0252        0.0113     -0.0104   \n",
       "2 -0.0938     -0.0101              -0.0095       -0.0225     -0.0014   \n",
       "3  0.0136      0.0426              -0.0141       -0.0160      0.0751   \n",
       "4 -0.0548     -0.1092               0.0171        0.0143      0.0598   \n",
       "5 -0.1246      0.0346               0.0124        0.0124     -0.0149   \n",
       "6 -0.0063     -0.0078              -0.0058       -0.0006     -0.0264   \n",
       "7  0.0143      0.0145              -0.0187       -0.0064     -0.0119   \n",
       "8  0.0762     -0.0043               0.0468        0.0021      0.0074   \n",
       "9 -0.0176      0.0065              -0.0601        0.0050     -0.0153   \n",
       "\n",
       "   ANZ_PERSONEN  ANZ_STATISTISCHE_HAUSHALTE  ANZ_TITEL  ARBEIT  BALLRAUM  ...  \\\n",
       "0       -0.0743                      0.0818    -0.0026  0.0978   -0.0770  ...   \n",
       "1       -0.0135                      0.0308     0.0018 -0.0021   -0.0083  ...   \n",
       "2        0.0063                     -0.0073    -0.0106  0.0537    0.0819  ...   \n",
       "3        0.0533                     -0.0166    -0.0081 -0.0293    0.0159  ...   \n",
       "4        0.1602                      0.0168     0.0127  0.0810   -0.0630  ...   \n",
       "5       -0.0501                      0.0148     0.0020  0.0722    0.0419  ...   \n",
       "6        0.0014                     -0.0071     0.0061 -0.0050    0.0012  ...   \n",
       "7       -0.0229                     -0.0164     0.0002  0.0948   -0.0482  ...   \n",
       "8        0.0227                      0.0455    -0.0071 -0.0118   -0.0387  ...   \n",
       "9       -0.0425                     -0.0615     0.0104 -0.0069   -0.0151  ...   \n",
       "\n",
       "   VK_ZG11  W_KEIT_KIND_HH  WOHNDAUER_2008  WOHNLAGE  ZABEOTYP  ANREDE_KZ  \\\n",
       "0   0.0799          0.0409         -0.0323   -0.0569    0.0860     0.0061   \n",
       "1   0.0066          0.0167          0.0033   -0.0054   -0.0050     0.0020   \n",
       "2  -0.0239         -0.0007          0.0112    0.0802    0.0107    -0.0056   \n",
       "3   0.0297         -0.1123         -0.0637    0.0292    0.0490     0.0082   \n",
       "4  -0.1838         -0.0722          0.0192   -0.0701   -0.0573    -0.0106   \n",
       "5   0.0158          0.0121         -0.0193   -0.0140    0.0212    -0.0021   \n",
       "6  -0.0733          0.0547          0.0055    0.0180   -0.0463    -0.3472   \n",
       "7   0.0072          0.0182         -0.0126   -0.1459   -0.0086    -0.0323   \n",
       "8   0.0136         -0.0125          0.0200   -0.0275    0.0041    -0.0313   \n",
       "9   0.0307          0.0199         -0.0028   -0.0174   -0.0283     0.0187   \n",
       "\n",
       "   ALTERSKATEGORIE_GROB  to_Wealth  to_life_stage  Explained Varience (%)  \n",
       "0               -0.0382     0.1356        -0.0788                    8.15  \n",
       "1                0.0193     0.0010         0.0082                    7.92  \n",
       "2                0.0152     0.0363        -0.0009                    5.09  \n",
       "3               -0.1920    -0.0136        -0.0319                    4.56  \n",
       "4                0.0205     0.0139         0.0080                    3.23  \n",
       "5               -0.0369    -0.0227         0.0510                    2.54  \n",
       "6               -0.0305     0.0009        -0.0180                    2.21  \n",
       "7               -0.0501    -0.0344         0.0988                    1.86  \n",
       "8                0.0082     0.0226        -0.0212                    1.70  \n",
       "9               -0.0189    -0.0908         0.0209                    1.44  \n",
       "\n",
       "[10 rows x 322 columns]"
      ]
     },
     "execution_count": 7,
     "metadata": {},
     "output_type": "execute_result"
    }
   ],
   "source": [
    "components_df.head(10)"
   ]
  },
  {
   "cell_type": "code",
   "execution_count": 8,
   "metadata": {},
   "outputs": [
    {
     "data": {
      "image/png": "[encoded data removed]",
      "text/plain": [
       "<Figure size 432x216 with 1 Axes>"
      ]
     },
     "metadata": {
      "needs_background": "light"
     },
     "output_type": "display_data"
    },
    {
     "data": {
      "image/png": "[encoded data removed]",
      "text/plain": [
       "<Figure size 432x216 with 1 Axes>"
      ]
     },
     "metadata": {
      "needs_background": "light"
     },
     "output_type": "display_data"
    },
    {
     "data": {
      "image/png": "[encoded data removed]",
      "text/plain": [
       "<Figure size 432x216 with 1 Axes>"
      ]
     },
     "metadata": {
      "needs_background": "light"
     },
     "output_type": "display_data"
    },
    {
     "data": {
      "image/png": "[encoded data removed]",
      "text/plain": [
       "<Figure size 432x216 with 1 Axes>"
      ]
     },
     "metadata": {
      "needs_background": "light"
     },
     "output_type": "display_data"
    },
    {
     "data": {
      "image/png": "[encoded data removed]",
      "text/plain": [
       "<Figure size 432x216 with 1 Axes>"
      ]
     },
     "metadata": {
      "needs_background": "light"
     },
     "output_type": "display_data"
    }
   ],
   "source": [
    "for i in range(5):\n",
    "    top_5_series = components_df.loc[i][:-1].sort_values(ascending=False).iloc[[0, 1, 2, 3, -4, -3, -2, -1]]\n",
    "    \n",
    "    \n",
    "    plt.figure(figsize = (6,3))\n",
    "    top_5_series.plot(kind = 'bar');\n",
    "    plt.xlabel(\"Features\")\n",
    "    plt.ylabel(\"Weights\")\n",
    "    plt.title(\"Feature-Weight Distribution(Component \"+str(i+1)+\")\" )"
   ]
  },
  {
   "cell_type": "markdown",
   "metadata": {},
   "source": [
    "### 1.2: K-Means Clustering"
   ]
  },
  {
   "cell_type": "code",
   "execution_count": null,
   "metadata": {},
   "outputs": [],
   "source": [
    "distances = []\n",
    "cluster_nums = []\n",
    "\n",
    "\n",
    "def perform_Kmeans(data, start, end, step=1):\n",
    "    \n",
    "    for clusters in range(start, end, step):\n",
    "        \n",
    "        kmeans = KMeans(n_clusters=clusters, random_state=12)\n",
    "        preds = kmeans.fit_predict(data)\n",
    "        pred_centroids = kmeans.cluster_centers_\n",
    "        centers = pred_centroids[preds]\n",
    "        distance = np.sqrt(((data - centers) ** 2).sum(axis = 1)).mean()\n",
    "        distances.append(distance)\n",
    "        cluster_nums.append(clusters)\n",
    "\n",
    "perform_Kmeans(pca_2_fitted, 1,20)\n",
    "plt.plot(cluster_nums, distances, '-o')\n",
    "plt.ylabel('Avg. distance to centroid')\n",
    "plt.xlabel('# of clusters')\n",
    "plt.show()"
   ]
  },
  {
   "cell_type": "code",
   "execution_count": null,
   "metadata": {},
   "outputs": [],
   "source": []
  },
  {
   "cell_type": "code",
   "execution_count": null,
   "metadata": {},
   "outputs": [],
   "source": []
  },
  {
   "cell_type": "code",
   "execution_count": null,
   "metadata": {},
   "outputs": [],
   "source": []
  },
  {
   "cell_type": "markdown",
   "metadata": {},
   "source": [
    "## Part 2: Supervised Learning Model\n",
    "\n",
    "Now that you've found which parts of the population are more likely to be customers of the mail-order company, it's time to build a prediction model. Each of the rows in the \"MAILOUT\" data files represents an individual that was targeted for a mailout campaign. Ideally, we should be able to use the demographic information from each individual to decide whether or not it will be worth it to include that person in the campaign.\n",
    "\n",
    "The \"MAILOUT\" data has been split into two approximately equal parts, each with almost 43 000 data rows. In this part, you can verify your model with the \"TRAIN\" partition, which includes a column, \"RESPONSE\", that states whether or not a person became a customer of the company following the campaign. In the next part, you'll need to create predictions on the \"TEST\" partition, where the \"RESPONSE\" column has been withheld."
   ]
  },
  {
   "cell_type": "code",
   "execution_count": null,
   "metadata": {},
   "outputs": [],
   "source": [
    "mailout_train = pd.read_csv('../../data/Term2/capstone/arvato_data/Udacity_MAILOUT_052018_TRAIN.csv', sep=';')"
   ]
  },
  {
   "cell_type": "code",
   "execution_count": null,
   "metadata": {},
   "outputs": [],
   "source": [
    "mailout_train.to_csv(\"mailout_train.csv\")"
   ]
  },
  {
   "cell_type": "markdown",
   "metadata": {},
   "source": [
    "## Part 3: Kaggle Competition\n",
    "\n",
    "Now that you've created a model to predict which individuals are most likely to respond to a mailout campaign, it's time to test that model in competition through Kaggle. If you click on the link [here](http://www.kaggle.com/t/21e6d45d4c574c7fa2d868f0e8c83140), you'll be taken to the competition page where, if you have a Kaggle account, you can enter. If you're one of the top performers, you may have the chance to be contacted by a hiring manager from Arvato or Bertelsmann for an interview!\n",
    "\n",
    "Your entry to the competition should be a CSV file with two columns. The first column should be a copy of \"LNR\", which acts as an ID number for each individual in the \"TEST\" partition. The second column, \"RESPONSE\", should be some measure of how likely each individual became a customer – this might not be a straightforward probability. As you should have found in Part 2, there is a large output class imbalance, where most individuals did not respond to the mailout. Thus, predicting individual classes and using accuracy does not seem to be an appropriate performance evaluation method. Instead, the competition will be using AUC to evaluate performance. The exact values of the \"RESPONSE\" column do not matter as much: only that the higher values try to capture as many of the actual customers as possible, early in the ROC curve sweep."
   ]
  },
  {
   "cell_type": "code",
   "execution_count": null,
   "metadata": {},
   "outputs": [],
   "source": [
    "mailout_test = pd.read_csv('../../data/Term2/capstone/arvato_data/Udacity_MAILOUT_052018_TEST.csv', sep=';')"
   ]
  },
  {
   "cell_type": "code",
   "execution_count": null,
   "metadata": {},
   "outputs": [],
   "source": [
    "mailout_test.to_csv(\"mailout_test.csv\")"
   ]
  },
  {
   "cell_type": "code",
   "execution_count": null,
   "metadata": {},
   "outputs": [],
   "source": []
  }
 ],
 "metadata": {
  "kernelspec": {
   "display_name": "Python 3",
   "language": "python",
   "name": "python3"
  },
  "language_info": {
   "codemirror_mode": {
    "name": "ipython",
    "version": 3
   },
   "file_extension": ".py",
   "mimetype": "text/x-python",
   "name": "python",
   "nbconvert_exporter": "python",
   "pygments_lexer": "ipython3",
   "version": "3.7.3"
  }
 },
 "nbformat": 4,
 "nbformat_minor": 2
}
